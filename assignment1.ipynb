{
 "cells": [
  {
   "cell_type": "code",
   "execution_count": 3,
   "metadata": {},
   "outputs": [],
   "source": [
    "import json\n",
    "import requests\n",
    "import matplotlib.pyplot as plt\n",
    "\n",
    "def winLossByRegion(region):\n",
    "    f = open('riot_key.txt', 'r') #Didn't want to share my key publicly\n",
    "    key = f.readlines()[0]\n",
    "\n",
    "    header = {\n",
    "    \"User-Agent\": \"Mozilla/5.0 (Windows NT 10.0; Win64; x64) AppleWebKit/537.36 (KHTML, like Gecko) Chrome/109.0.0.0 Safari/537.36\",\n",
    "    \"Accept-Language\": \"en-US,en;q=0.9\",\n",
    "    \"Accept-Charset\": \"application/x-www-form-urlencoded; charset=UTF-8\",\n",
    "    \"Origin\": \"https://developer.riotgames.com\",\n",
    "    \"X-Riot-Token\": key\n",
    "    }\n",
    "\n",
    "    r = requests.get(f'https://{region}.api.riotgames.com/lol/league/v4/challengerleagues/by-queue/RANKED_SOLO_5x5', headers = header)\n",
    "    league = r.json()\n",
    "    \n",
    "    w_l_ratio = 0\n",
    "    count = 0\n",
    "    for summoner in league['entries']:\n",
    "        w_l_ratio += summoner['wins']/summoner['losses']\n",
    "        count += 1\n",
    "    \n",
    "    return w_l_ratio/count"
   ]
  },
  {
   "cell_type": "code",
   "execution_count": 4,
   "metadata": {},
   "outputs": [
    {
     "name": "stdout",
     "output_type": "stream",
     "text": [
      "Win/Loss Ratio for br1 is 1.2504658863452816\n",
      "Win/Loss Ratio for eun1 is 1.3985435572876375\n",
      "Win/Loss Ratio for euw1 is 1.2690337066077688\n",
      "Win/Loss Ratio for jp1 is 1.2605028005722048\n",
      "Win/Loss Ratio for kr is 1.3390896398760288\n",
      "Win/Loss Ratio for la1 is 1.3339354722202383\n",
      "Win/Loss Ratio for la2 is 1.2969432025500438\n",
      "Win/Loss Ratio for na1 is 1.25059797829561\n",
      "Win/Loss Ratio for oc1 is 1.3149890723034827\n",
      "Win/Loss Ratio for ph2 is 1.485152929140815\n",
      "Win/Loss Ratio for ru is 1.3407383313793035\n",
      "Win/Loss Ratio for sg2 is 1.3388251021792479\n",
      "Win/Loss Ratio for th2 is 1.481417316887348\n",
      "Win/Loss Ratio for tr1 is 1.2766298727131036\n",
      "Win/Loss Ratio for tw2 is 1.3670233268655128\n",
      "Win/Loss Ratio for vn2 is 1.429553900071369\n"
     ]
    }
   ],
   "source": [
    "regions = ['br1', 'eun1', 'euw1', 'jp1', 'kr', 'la1', 'la2',\n",
    "           'na1', 'oc1', 'ph2', 'ru', 'sg2', 'th2', 'tr1',\n",
    "           'tw2', 'vn2']\n",
    "ratio = []\n",
    "\n",
    "for region in regions:\n",
    "    print(f'Win/Loss Ratio for {region} is {winLossByRegion(region)}')\n",
    "    ratio.append(winLossByRegion(region))\n",
    "    "
   ]
  },
  {
   "cell_type": "code",
   "execution_count": 10,
   "metadata": {},
   "outputs": [
    {
     "data": {
      "image/png": "[encoded data removed]",
      "text/plain": [
       "<Figure size 432x288 with 1 Axes>"
      ]
     },
     "metadata": {
      "needs_background": "light"
     },
     "output_type": "display_data"
    }
   ],
   "source": [
    "plt.bar(regions, ratio)\n",
    "plt.title('Challenger Win/Loss Ratios by Region')\n",
    "plt.xlabel('Region')\n",
    "plt.ylabel('Ratio')\n",
    "plt.ylim(0, 2)\n",
    "plt.xticks(rotation = 90)\n",
    "plt.savefig('ratio.jpeg')\n",
    "plt.show()"
   ]
  }
 ],
 "metadata": {
  "kernelspec": {
   "display_name": "Python 3",
   "language": "python",
   "name": "python3"
  },
  "language_info": {
   "codemirror_mode": {
    "name": "ipython",
    "version": 3
   },
   "file_extension": ".py",
   "mimetype": "text/x-python",
   "name": "python",
   "nbconvert_exporter": "python",
   "pygments_lexer": "ipython3",
   "version": "3.10.2"
  },
  "orig_nbformat": 4,
  "vscode": {
   "interpreter": {
    "hash": "91b0f9611463a9792426a975c97491acda42d543aee915178ee5e41afe7161ad"
   }
  }
 },
 "nbformat": 4,
 "nbformat_minor": 2
}
